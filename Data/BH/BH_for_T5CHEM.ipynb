{
 "cells": [
  {
   "cell_type": "code",
   "execution_count": 1,
   "id": "842b408c-8aff-42f2-8cc8-abe0163b73d8",
   "metadata": {},
   "outputs": [
    {
     "name": "stdout",
     "output_type": "stream",
     "text": [
      "[2887   98 1446 ... 1151 3251  601]\n",
      "[1429 1278  765 ... 1523 1724 2954]\n",
      "[2046 1869 1906 ... 3311  527 3313]\n",
      "[3710 3674 1230 ... 2512 2340 1942]\n",
      "[ 252  189 3288 ... 3021 1279 2980]\n",
      "[3875  913 3182 ... 1044 2182  158]\n",
      "[2292  255 3764 ... 2338 1790 2079]\n",
      "[1160 1244 3548 ...  785 2779 2286]\n",
      "[2703 2322 3035 ...  616  777 2339]\n",
      "[2404 2241  636 ... 3563 3636 2566]\n"
     ]
    }
   ],
   "source": [
    "import numpy as np\n",
    "import pandas as pd\n",
    "import pickle\n",
    "\n",
    "df = pd.read_csv('./BH_processed.csv')\n",
    "df_list = []\n",
    "for k in range(10):\n",
    "    r = []\n",
    "    ligand = []\n",
    "    add = []\n",
    "    base = []\n",
    "    y = []\n",
    "    split_set_num = k + 1\n",
    "    with open('train_test_idxs.pickle', 'rb') as handle:\n",
    "        idx_dict = pickle.load(handle)\n",
    "\n",
    "        train_index = idx_dict['train_idx'][split_set_num]\n",
    "        test_index = idx_dict['test_idx'][split_set_num]\n",
    "        #valid_index = train_index[int(args.valid_size*len(train_index)):]\n",
    "        #train_index = train_index[0:int(args.valid_size*len(train_index))]\n",
    "        order_index = np.concatenate((train_index, test_index), axis=0)\n",
    "        print(order_index)\n",
    "        for i in order_index:\n",
    "            y.append(df['yield'].values[i])\n",
    "            r.append(df['reactants'].values[i].split('.')[0])\n",
    "            ligand.append(df['reagents'].values[i].split('.')[0])\n",
    "\n",
    "            additive = df['reagents'].values[i].split('.')[2]\n",
    "            #Chem.Kekulize(add)\n",
    "            #Chem.MolToSmiles(m,kekuleSmiles=True)\n",
    "            add.append(additive)\n",
    "            base.append(df['reagents'].values[i].split('.')[1])\n",
    "                    \n",
    "    \n",
    "        dfi = pd.DataFrame({'Ligand':ligand, 'Additive':add, 'Base':base, 'Aryl halide':r, 'Output':y})\n",
    "        df_list.append(dfi)"
   ]
  },
  {
   "cell_type": "code",
   "execution_count": 9,
   "id": "9918cf52-d9c2-42d4-b1c0-011f7100a57b",
   "metadata": {},
   "outputs": [],
   "source": [
    "import numpy as np\n",
    "import pandas as pd\n",
    "import pickle\n",
    "\n",
    "df = pd.read_csv('BH_processed.csv')\n",
    "df_list = []\n",
    "\n",
    "r = []\n",
    "ligand = []\n",
    "add = []\n",
    "base = []\n",
    "y = []\n",
    "\n",
    "for i in range(df.shape[0]):\n",
    "    y.append(df['yield'].values[i])\n",
    "    r.append(df['reactants'].values[i].split('.')[0])\n",
    "    ligand.append(df['reagents'].values[i].split('.')[0])\n",
    "\n",
    "    additive = df['reagents'].values[i].split('.')[2]\n",
    "    add.append(additive)\n",
    "    base.append(df['reagents'].values[i].split('.')[1])\n",
    "                    \n",
    "    \n",
    "dfi = pd.DataFrame({'Ligand':ligand, 'Additive':add, 'Base':base, 'Aryl halide':r, 'Output':y})\n",
    "df_list.append(dfi)"
   ]
  },
  {
   "cell_type": "code",
   "execution_count": 10,
   "id": "174976da-6381-47d6-a95a-24a3e0f5cee5",
   "metadata": {},
   "outputs": [],
   "source": [
    "dfi.to_csv('data1_new.csv', index=False)"
   ]
  },
  {
   "cell_type": "code",
   "execution_count": 4,
   "id": "0d70e5e9-ba00-4460-a6b0-ab34d11c6c0b",
   "metadata": {},
   "outputs": [
    {
     "data": {
      "text/html": [
       "<div>\n",
       "<style scoped>\n",
       "    .dataframe tbody tr th:only-of-type {\n",
       "        vertical-align: middle;\n",
       "    }\n",
       "\n",
       "    .dataframe tbody tr th {\n",
       "        vertical-align: top;\n",
       "    }\n",
       "\n",
       "    .dataframe thead th {\n",
       "        text-align: right;\n",
       "    }\n",
       "</style>\n",
       "<table border=\"1\" class=\"dataframe\">\n",
       "  <thead>\n",
       "    <tr style=\"text-align: right;\">\n",
       "      <th></th>\n",
       "      <th>Ligand</th>\n",
       "      <th>Additive</th>\n",
       "      <th>Base</th>\n",
       "      <th>Aryl halide</th>\n",
       "      <th>Output</th>\n",
       "    </tr>\n",
       "  </thead>\n",
       "  <tbody>\n",
       "    <tr>\n",
       "      <th>0</th>\n",
       "      <td>CC(C)C1=CC(C(C)C)=CC(C(C)C)=C1C2=C(P(C3CCCCC3)...</td>\n",
       "      <td>o1nccc1c2ccccc2</td>\n",
       "      <td>CN(C)P(N(C)C)(N(C)C)=NP(N(C)C)(N(C)C)=NCC</td>\n",
       "      <td>FC(F)(F)c1ccc(Cl)cc1</td>\n",
       "      <td>10.657812</td>\n",
       "    </tr>\n",
       "    <tr>\n",
       "      <th>1</th>\n",
       "      <td>CC(C)C1=CC(C(C)C)=CC(C(C)C)=C1C2=C(P(C3CCCCC3)...</td>\n",
       "      <td>o1nccc1c2ccccc2</td>\n",
       "      <td>CN(C)P(N(C)C)(N(C)C)=NP(N(C)C)(N(C)C)=NCC</td>\n",
       "      <td>FC(F)(F)c1ccc(Br)cc1</td>\n",
       "      <td>14.747896</td>\n",
       "    </tr>\n",
       "    <tr>\n",
       "      <th>2</th>\n",
       "      <td>CC(C)C1=CC(C(C)C)=CC(C(C)C)=C1C2=C(P(C3CCCCC3)...</td>\n",
       "      <td>o1nccc1c2ccccc2</td>\n",
       "      <td>CN(C)P(N(C)C)(N(C)C)=NP(N(C)C)(N(C)C)=NCC</td>\n",
       "      <td>FC(F)(F)c1ccc(I)cc1</td>\n",
       "      <td>18.278686</td>\n",
       "    </tr>\n",
       "    <tr>\n",
       "      <th>3</th>\n",
       "      <td>CC(C)C1=CC(C(C)C)=CC(C(C)C)=C1C2=C(P(C3CCCCC3)...</td>\n",
       "      <td>o1nccc1c2ccccc2</td>\n",
       "      <td>CN(C)P(N(C)C)(N(C)C)=NP(N(C)C)(N(C)C)=NCC</td>\n",
       "      <td>COc1ccc(Cl)cc1</td>\n",
       "      <td>2.475058</td>\n",
       "    </tr>\n",
       "    <tr>\n",
       "      <th>4</th>\n",
       "      <td>CC(C)C1=CC(C(C)C)=CC(C(C)C)=C1C2=C(P(C3CCCCC3)...</td>\n",
       "      <td>o1nccc1c2ccccc2</td>\n",
       "      <td>CN(C)P(N(C)C)(N(C)C)=NP(N(C)C)(N(C)C)=NCC</td>\n",
       "      <td>COc1ccc(Br)cc1</td>\n",
       "      <td>6.119058</td>\n",
       "    </tr>\n",
       "  </tbody>\n",
       "</table>\n",
       "</div>"
      ],
      "text/plain": [
       "                                              Ligand         Additive  \\\n",
       "0  CC(C)C1=CC(C(C)C)=CC(C(C)C)=C1C2=C(P(C3CCCCC3)...  o1nccc1c2ccccc2   \n",
       "1  CC(C)C1=CC(C(C)C)=CC(C(C)C)=C1C2=C(P(C3CCCCC3)...  o1nccc1c2ccccc2   \n",
       "2  CC(C)C1=CC(C(C)C)=CC(C(C)C)=C1C2=C(P(C3CCCCC3)...  o1nccc1c2ccccc2   \n",
       "3  CC(C)C1=CC(C(C)C)=CC(C(C)C)=C1C2=C(P(C3CCCCC3)...  o1nccc1c2ccccc2   \n",
       "4  CC(C)C1=CC(C(C)C)=CC(C(C)C)=C1C2=C(P(C3CCCCC3)...  o1nccc1c2ccccc2   \n",
       "\n",
       "                                        Base           Aryl halide     Output  \n",
       "0  CN(C)P(N(C)C)(N(C)C)=NP(N(C)C)(N(C)C)=NCC  FC(F)(F)c1ccc(Cl)cc1  10.657812  \n",
       "1  CN(C)P(N(C)C)(N(C)C)=NP(N(C)C)(N(C)C)=NCC  FC(F)(F)c1ccc(Br)cc1  14.747896  \n",
       "2  CN(C)P(N(C)C)(N(C)C)=NP(N(C)C)(N(C)C)=NCC   FC(F)(F)c1ccc(I)cc1  18.278686  \n",
       "3  CN(C)P(N(C)C)(N(C)C)=NP(N(C)C)(N(C)C)=NCC        COc1ccc(Cl)cc1   2.475058  \n",
       "4  CN(C)P(N(C)C)(N(C)C)=NP(N(C)C)(N(C)C)=NCC        COc1ccc(Br)cc1   6.119058  "
      ]
     },
     "execution_count": 4,
     "metadata": {},
     "output_type": "execute_result"
    }
   ],
   "source": [
    "df_list[0].head()"
   ]
  },
  {
   "cell_type": "code",
   "execution_count": 3,
   "id": "9e5de33f-291a-4bfd-ae89-1a7e776df2f5",
   "metadata": {},
   "outputs": [
    {
     "name": "stdout",
     "output_type": "stream",
     "text": [
      "done\n"
     ]
    }
   ],
   "source": [
    "import pandas as pd\n",
    "from openpyxl import Workbook\n",
    "from openpyxl.utils.dataframe import dataframe_to_rows\n",
    "\n",
    "# Sample dataframes\n",
    "#df1 = df\n",
    "#df2 = df\n",
    "\n",
    "# Create a Workbook object\n",
    "wb = Workbook()\n",
    "\n",
    "# Convert DataFrame to Excel sheet\n",
    "def dataframe_to_sheet(df_i, sheet):\n",
    "    for r in dataframe_to_rows(df_i, index=False, header=True):\n",
    "        sheet.append(r)\n",
    "\n",
    "# Create first sheet from first dataframe\n",
    "sheet1 = wb.active\n",
    "sheet1.title = \"FullCV_01\"\n",
    "dataframe_to_sheet(df_list[0], sheet1)\n",
    "\n",
    "sheet2 = wb.create_sheet(title=\"FullCV_02\")\n",
    "dataframe_to_sheet(df_list[1], sheet2)\n",
    "\n",
    "sheet3 = wb.create_sheet(title=\"FullCV_03\")\n",
    "dataframe_to_sheet(df_list[2], sheet3)\n",
    "\n",
    "sheet4 = wb.create_sheet(title=\"FullCV_04\")\n",
    "dataframe_to_sheet(df_list[3], sheet4)\n",
    "\n",
    "sheet5 = wb.create_sheet(title=\"FullCV_05\")\n",
    "dataframe_to_sheet(df_list[4], sheet5)\n",
    "\n",
    "sheet6 = wb.create_sheet(title=\"FullCV_06\")\n",
    "dataframe_to_sheet(df_list[5], sheet6)\n",
    "\n",
    "sheet7 = wb.create_sheet(title=\"FullCV_07\")\n",
    "dataframe_to_sheet(df_list[6], sheet7)\n",
    "\n",
    "sheet8 = wb.create_sheet(title=\"FullCV_08\")\n",
    "dataframe_to_sheet(df_list[7], sheet8)\n",
    "\n",
    "sheet9 = wb.create_sheet(title=\"FullCV_09\")\n",
    "dataframe_to_sheet(df_list[8], sheet9)\n",
    "\n",
    "sheet10 = wb.create_sheet(title=\"FullCV_10\")\n",
    "dataframe_to_sheet(df_list[9], sheet10)\n",
    "\n",
    "wb.save(\"new.xlsx\")\n",
    "print('done')\n"
   ]
  },
  {
   "cell_type": "code",
   "execution_count": 11,
   "id": "b5c0f36a-31fb-400d-ad71-304cfc9221c2",
   "metadata": {},
   "outputs": [
    {
     "data": {
      "text/plain": [
       "'Cc1cc(C)on1'"
      ]
     },
     "execution_count": 11,
     "metadata": {},
     "output_type": "execute_result"
    }
   ],
   "source": [
    "smi = 'CC1=CC(C)=NO1'\n",
    "Chem.MolToSmiles(Chem.MolFromSmiles(smi))"
   ]
  },
  {
   "cell_type": "code",
   "execution_count": 12,
   "id": "48c50b0c-6489-4cc2-8fa4-0ad5abb0e279",
   "metadata": {},
   "outputs": [
    {
     "data": {
      "text/plain": [
       "'Cc1cc(C)on1'"
      ]
     },
     "execution_count": 12,
     "metadata": {},
     "output_type": "execute_result"
    }
   ],
   "source": [
    "smi = 'Cc1onc(C)c1'\n",
    "Chem.MolToSmiles(Chem.MolFromSmiles(smi))"
   ]
  },
  {
   "cell_type": "code",
   "execution_count": null,
   "id": "e42b07e0-f030-4e29-ab84-6593f990cc3d",
   "metadata": {},
   "outputs": [],
   "source": []
  }
 ],
 "metadata": {
  "kernelspec": {
   "display_name": "rxnfp",
   "language": "python",
   "name": "rxnfp"
  },
  "language_info": {
   "codemirror_mode": {
    "name": "ipython",
    "version": 3
   },
   "file_extension": ".py",
   "mimetype": "text/x-python",
   "name": "python",
   "nbconvert_exporter": "python",
   "pygments_lexer": "ipython3",
   "version": "3.6.13"
  }
 },
 "nbformat": 4,
 "nbformat_minor": 5
}
