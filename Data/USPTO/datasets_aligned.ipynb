{
 "cells": [
  {
   "cell_type": "code",
   "execution_count": 12,
   "metadata": {},
   "outputs": [
    {
     "name": "stdout",
     "output_type": "stream",
     "text": [
      "(78201,)\n",
      "(78201, 2)\n"
     ]
    }
   ],
   "source": [
    "import numpy as np\n",
    "import pandas as pd\n",
    "test = pd.read_csv('USPTO500MT_train_processed_100.csv')\n",
    "r = test['reactants'].values\n",
    "a = test['reagents'].values\n",
    "p = test['products'].values\n",
    "print(r.shape)\n",
    "rxn = []\n",
    "scaled_yield = []\n",
    "for i in range(test.shape[0]):\n",
    "    rxn_i = r[i] + '.' + a[i] + '>>' + p[i]\n",
    "    rxn.append(rxn_i)\n",
    "    y = test['yield'].values[i]/100.0\n",
    "    scaled_yield.append(y)\n",
    "new_test_df = pd.DataFrame({'rxn':rxn, 'scaled_yield':scaled_yield})\n",
    "new_test_df.to_csv('/fs/ess/PCON0041/xiaohu/rxn_yields/data/uspto/500mt_train.csv',index=False)\n",
    "print(new_test_df.shape)"
   ]
  },
  {
   "cell_type": "code",
   "execution_count": 13,
   "metadata": {},
   "outputs": [
    {
     "name": "stdout",
     "output_type": "stream",
     "text": [
      "(8716,)\n",
      "(8716, 2)\n"
     ]
    }
   ],
   "source": [
    "test = pd.read_csv('USPTO500MT_valid_processed_100.csv')\n",
    "r = test['reactants'].values\n",
    "a = test['reagents'].values\n",
    "p = test['products'].values\n",
    "print(r.shape)\n",
    "rxn = []\n",
    "scaled_yield = []\n",
    "for i in range(test.shape[0]):\n",
    "    rxn_i = r[i] + '.' + a[i] + '>>' + p[i]\n",
    "    rxn.append(rxn_i)\n",
    "    y = test['yield'].values[i]/100.0\n",
    "    scaled_yield.append(y)\n",
    "new_test_df = pd.DataFrame({'rxn':rxn, 'scaled_yield':scaled_yield})\n",
    "new_test_df.to_csv('/fs/ess/PCON0041/xiaohu/rxn_yields/data/uspto/500mt_valid.csv',index=False)\n",
    "print(new_test_df.shape)"
   ]
  },
  {
   "cell_type": "code",
   "execution_count": 14,
   "metadata": {},
   "outputs": [
    {
     "name": "stdout",
     "output_type": "stream",
     "text": [
      "(9497,)\n",
      "(9497, 2)\n"
     ]
    }
   ],
   "source": [
    "test = pd.read_csv('USPTO500MT_test_processed_100.csv')\n",
    "r = test['reactants'].values\n",
    "a = test['reagents'].values\n",
    "p = test['products'].values\n",
    "print(r.shape)\n",
    "rxn = []\n",
    "scaled_yield = []\n",
    "for i in range(test.shape[0]):\n",
    "    rxn_i = r[i] + '.' + a[i] + '>>' + p[i]\n",
    "    rxn.append(rxn_i)\n",
    "    y = test['yield'].values[i]/100.0\n",
    "    scaled_yield.append(y)\n",
    "new_test_df = pd.DataFrame({'rxn':rxn, 'scaled_yield':scaled_yield})\n",
    "new_test_df.to_csv('/fs/ess/PCON0041/xiaohu/rxn_yields/data/uspto/500mt_test.csv',index=False)\n",
    "print(new_test_df.shape)"
   ]
  },
  {
   "cell_type": "code",
   "execution_count": null,
   "metadata": {},
   "outputs": [],
   "source": []
  }
 ],
 "metadata": {
  "kernelspec": {
   "display_name": "yield_prediction",
   "language": "python",
   "name": "python3"
  },
  "language_info": {
   "codemirror_mode": {
    "name": "ipython",
    "version": 3
   },
   "file_extension": ".py",
   "mimetype": "text/x-python",
   "name": "python",
   "nbconvert_exporter": "python",
   "pygments_lexer": "ipython3",
   "version": "3.8.18"
  }
 },
 "nbformat": 4,
 "nbformat_minor": 2
}
